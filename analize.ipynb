{
 "cells": [
  {
   "cell_type": "code",
   "execution_count": 2,
   "metadata": {},
   "outputs": [
    {
     "name": "stderr",
     "output_type": "stream",
     "text": [
      "WARNING:py.warnings:c:\\Users\\kazys\\OneDrive\\Dokumenty\\GIT\\STRAVA PROJECT\\authorization.py:39: DeprecationWarning: datetime.datetime.utcfromtimestamp() is deprecated and scheduled for removal in a future version. Use timezone-aware objects to represent datetimes in UTC: datetime.datetime.fromtimestamp(timestamp, datetime.UTC).\n",
      "  if expires_at and datetime.utcfromtimestamp(expires_at) > datetime.utcnow():\n",
      "\n",
      "WARNING:py.warnings:c:\\Users\\kazys\\OneDrive\\Dokumenty\\GIT\\STRAVA PROJECT\\authorization.py:39: DeprecationWarning: datetime.datetime.utcnow() is deprecated and scheduled for removal in a future version. Use timezone-aware objects to represent datetimes in UTC: datetime.datetime.now(datetime.UTC).\n",
      "  if expires_at and datetime.utcfromtimestamp(expires_at) > datetime.utcnow():\n",
      "\n",
      "WARNING:root:Please set client.refresh_token if you want to usethe auto token-refresh feature\n"
     ]
    }
   ],
   "source": [
    "import authorization\n",
    "from stravalib import Client\n",
    "import pandas as pd\n",
    "import scripts\n",
    "\n",
    "client = authorization.auth()\n",
    "\n",
    "activities = client.get_activities()\n",
    "df_activities = pd.DataFrame(scripts.all_activities_to_list(activities)) \n",
    "df_activities.to_csv('test.csv')"
   ]
  }
 ],
 "metadata": {
  "kernelspec": {
   "display_name": "Python 3",
   "language": "python",
   "name": "python3"
  },
  "language_info": {
   "codemirror_mode": {
    "name": "ipython",
    "version": 3
   },
   "file_extension": ".py",
   "mimetype": "text/x-python",
   "name": "python",
   "nbconvert_exporter": "python",
   "pygments_lexer": "ipython3",
   "version": "3.13.2"
  }
 },
 "nbformat": 4,
 "nbformat_minor": 2
}
